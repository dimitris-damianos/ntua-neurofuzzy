{
 "cells": [
  {
   "cell_type": "code",
   "execution_count": null,
   "metadata": {},
   "outputs": [],
   "source": [
    "import gym\n",
    "import numpy as np\n",
    "import random\n",
    "from tqdm import tqdm\n",
    "import matplotlib.pyplot as plt\n",
    "import statistics as st"
   ]
  },
  {
   "cell_type": "code",
   "execution_count": null,
   "metadata": {},
   "outputs": [],
   "source": [
    "### e-greedy action selection\n",
    "def select_action(env,Qtable,state,eps):\n",
    "    num = random.uniform(0,1)  ## get a random number\n",
    "    if num > eps:\n",
    "        return  np.argmax(Qtable[state])\n",
    "    else:\n",
    "        return env.action_space.sample()\n",
    "    \n",
    "### modify rewards\n",
    "def get_reward(state):\n",
    "    if state[0] >= 0.5:\n",
    "        return 10\n",
    "    if state[0] > -0.4 or state[0]<-0.8:\n",
    "        return -(1+state[0])**2\n",
    "    return -1\n",
    "\n",
    "def get_discrete_state(env,state):\n",
    "    DISCRETE_OS_SIZE = [20] * len(env.observation_space.high)\n",
    "    discrete_os_win_size = (env.observation_space.high - env.observation_space.low) / DISCRETE_OS_SIZE\n",
    "    discrete_state = (state - env.observation_space.low) / discrete_os_win_size\n",
    "    return tuple(discrete_state.astype(int))\n"
   ]
  },
  {
   "cell_type": "code",
   "execution_count": null,
   "metadata": {},
   "outputs": [],
   "source": [
    "def q_learning(env,episodes):\n",
    "    ### init Qtable\n",
    "    DISCRETE_OS_SIZE = [20] * len(env.observation_space.high)\n",
    "    Qtable = np.zeros((DISCRETE_OS_SIZE + [env.action_space.n]))\n",
    "\n",
    "    ### hyperparameters\n",
    "    eps = 1\n",
    "    gamma = 0.95\n",
    "    eps_min = 0.01\n",
    "    eps_decay = 0.9\n",
    "    lr = 0.001\n",
    "    \n",
    "    rewards = []\n",
    "    successes = {}\n",
    "    for e in range(episodes): \n",
    "        state = get_discrete_state(env,env.reset()[0])\n",
    "        action = select_action(env,Qtable,state,eps)\n",
    "        \n",
    "        score = 0\n",
    "        for i in range(2000):\n",
    "            action = select_action(env,Qtable,state,eps)\n",
    "            new_state, reward, done, _ ,_= env.step(action)\n",
    "            #reward = get_reward(new_state)  ### uncomment for custom reward function\n",
    "            \n",
    "            new_state = get_discrete_state(env,new_state)\n",
    "            \n",
    "            score += reward\n",
    "            if not done:\n",
    "                ## update table\n",
    "                max_future_q = np.max(Qtable[new_state])\n",
    "                current_q = Qtable[state + (action, )]\n",
    "                new_q = (1 - lr) * current_q + lr * (reward + gamma * max_future_q)\n",
    "                Qtable[state + (action, )] = new_q\n",
    "                    \n",
    "            else:\n",
    "                print(f'Episode {e}/{episodes}, goal reached,score:{score} ')\n",
    "                Qtable[state + (action, )] = reward\n",
    "                rewards.append(score)\n",
    "                successes[e] = score\n",
    "                ### minimize exploration after success\n",
    "                if eps*eps_decay > eps_min:\n",
    "                    eps = eps*eps_decay\n",
    "                else:\n",
    "                    eps = eps_min\n",
    "                \n",
    "                break\n",
    "        if e % 100 == 0:\n",
    "            print(f'Episode {e}/{episodes}')\n",
    "                    \n",
    "    return rewards, successes"
   ]
  },
  {
   "cell_type": "code",
   "execution_count": null,
   "metadata": {},
   "outputs": [],
   "source": [
    "## create mountain car environment\n",
    "import pickle\n",
    "env = gym.make('MountainCar-v0',render_mode='human')\n",
    "\n",
    "episodes = 1000\n",
    "\n",
    "q_rewards,q_succ = q_learning(env,episodes)\n"
   ]
  }
 ],
 "metadata": {
  "kernelspec": {
   "display_name": "Python 3",
   "language": "python",
   "name": "python3"
  },
  "language_info": {
   "codemirror_mode": {
    "name": "ipython",
    "version": 3
   },
   "file_extension": ".py",
   "mimetype": "text/x-python",
   "name": "python",
   "nbconvert_exporter": "python",
   "pygments_lexer": "ipython3",
   "version": "3.10.12"
  }
 },
 "nbformat": 4,
 "nbformat_minor": 2
}
